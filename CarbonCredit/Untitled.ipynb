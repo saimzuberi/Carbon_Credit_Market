{
 "cells": [
  {
   "cell_type": "code",
   "execution_count": 31,
   "id": "d48a223c-e9bf-42c4-bf8b-2d8400924927",
   "metadata": {},
   "outputs": [],
   "source": [
    "import os\n",
    "import json\n",
    "from web3 import Web3\n",
    "from pathlib import Path\n",
    "from dotenv import load_dotenv\n",
    "import streamlit as st\n",
    "from PIL import Image\n",
    "from decimal import Decimal"
   ]
  },
  {
   "cell_type": "code",
   "execution_count": 49,
   "id": "7ad36b0c-1ff3-43f9-a88b-0cf9217ab18d",
   "metadata": {},
   "outputs": [
    {
     "data": {
      "text/plain": [
       "False"
      ]
     },
     "execution_count": 49,
     "metadata": {},
     "output_type": "execute_result"
    }
   ],
   "source": [
    "load_dotenv(Path('CC.env'))"
   ]
  },
  {
   "cell_type": "code",
   "execution_count": 8,
   "id": "751669b2-f4fe-4c6f-b8ed-e2cd50cc7c67",
   "metadata": {},
   "outputs": [
    {
     "name": "stderr",
     "output_type": "stream",
     "text": [
      "2023-02-04 00:28:01.839 \n",
      "  \u001b[33m\u001b[1mWarning:\u001b[0m to view this Streamlit app on a browser, run it with the following\n",
      "  command:\n",
      "\n",
      "    streamlit run /Users/saim/opt/anaconda3/envs/alpacaenv/lib/python3.7/site-packages/ipykernel_launcher.py [ARGUMENTS]\n"
     ]
    },
    {
     "data": {
      "text/plain": [
       "DeltaGenerator(_root_container=0, _provided_cursor=None, _parent=None, _block_type=None, _form_data=None)"
      ]
     },
     "execution_count": 8,
     "metadata": {},
     "output_type": "execute_result"
    }
   ],
   "source": [
    "header = Image.open('contracts/Images/_Header.jpeg')\n",
    "st.image(header, caption='HeaderFile')"
   ]
  },
  {
   "cell_type": "code",
   "execution_count": 25,
   "id": "9b11eb0d-d812-43ed-80fa-88acf650322d",
   "metadata": {},
   "outputs": [
    {
     "data": {
      "text/plain": [
       "True"
      ]
     },
     "execution_count": 25,
     "metadata": {},
     "output_type": "execute_result"
    }
   ],
   "source": [
    "w3.isConnected()"
   ]
  },
  {
   "cell_type": "code",
   "execution_count": 28,
   "id": "ad0f219d-7d5a-4fc8-932c-0a59c4649fbd",
   "metadata": {},
   "outputs": [
    {
     "data": {
      "text/plain": [
       "True"
      ]
     },
     "execution_count": 28,
     "metadata": {},
     "output_type": "execute_result"
    }
   ],
   "source": [
    "w3.isAddress('0x63608732649fDc441a8377dE13E3D94751f9D2F8')"
   ]
  },
  {
   "cell_type": "code",
   "execution_count": 29,
   "id": "88ca2d86-3727-4566-b13d-6b56da289106",
   "metadata": {},
   "outputs": [
    {
     "data": {
      "text/plain": [
       "'0x63608732649fDc441a8377dE13E3D94751f9D2F8'"
      ]
     },
     "execution_count": 29,
     "metadata": {},
     "output_type": "execute_result"
    }
   ],
   "source": [
    "w3.toChecksumAddress('0x63608732649fDc441a8377dE13E3D94751f9D2F8')"
   ]
  },
  {
   "cell_type": "code",
   "execution_count": 30,
   "id": "bccb0723-35c2-4003-851c-1ba2f32206e5",
   "metadata": {},
   "outputs": [
    {
     "data": {
      "text/plain": [
       "0"
      ]
     },
     "execution_count": 30,
     "metadata": {},
     "output_type": "execute_result"
    }
   ],
   "source": [
    "w3.eth.get_balance('0x63608732649fDc441a8377dE13E3D94751f9D2F8')"
   ]
  },
  {
   "cell_type": "code",
   "execution_count": 32,
   "id": "a38229bf-c696-4707-b9d1-92fda85a5733",
   "metadata": {},
   "outputs": [
    {
     "data": {
      "text/plain": [
       "<web3.main.Web3 at 0x7fe47cd68890>"
      ]
     },
     "execution_count": 32,
     "metadata": {},
     "output_type": "execute_result"
    }
   ],
   "source": [
    "Web3(Web3.HTTPProvider(os.getenv(\"WEB3_PROVIDER_URI\")))"
   ]
  },
  {
   "cell_type": "code",
   "execution_count": 24,
   "id": "08f02521-f67c-4d67-b924-c4bb5fdd0ff4",
   "metadata": {},
   "outputs": [
    {
     "data": {
      "text/plain": [
       "<_io.TextIOWrapper name='contracts/compiled/artregistry_abi.json' mode='r' encoding='UTF-8'>"
      ]
     },
     "execution_count": 24,
     "metadata": {},
     "output_type": "execute_result"
    }
   ],
   "source": [
    "open(Path('./contracts/compiled/artregistry_abi.json'))"
   ]
  },
  {
   "cell_type": "code",
   "execution_count": 12,
   "id": "97b418e3-ea38-4083-ad62-f37bc4f87b3c",
   "metadata": {},
   "outputs": [],
   "source": [
    "def load_contract():\n",
    "    with open(Path('./contracts/compiled/artregistry_abi.json')) as f:\n",
    "        contract_abi = json.load(f)\n",
    "        contract_address = os.getenv(\"SMART_CONTRACT_ADDRESS\")\n",
    "        contract = w3.eth.contract(\n",
    "        address=contract_address,\n",
    "        abi=contract_abi\n",
    "    )\n",
    "\n",
    "    return contract"
   ]
  },
  {
   "cell_type": "code",
   "execution_count": 38,
   "id": "0cdba965-e8f4-43e0-b8d4-e0088c470fa7",
   "metadata": {},
   "outputs": [],
   "source": [
    "contract = load_contract()"
   ]
  },
  {
   "cell_type": "code",
   "execution_count": 34,
   "id": "80e7e234-0783-4123-87e1-d51a189173d2",
   "metadata": {},
   "outputs": [
    {
     "data": {
      "text/plain": [
       "['0x51B0A521a3c93250521C16eFa268E7d7B6caa610',\n",
       " '0x8a4Ab31D91bCed163910c2277e1665c3bbb7E2B2',\n",
       " '0x1D63e2dfFD3DbB4A67627C9227B46b2959D89ca1',\n",
       " '0x0e3Be556DD5950C771fffc57b8A30567AF37C904',\n",
       " '0x26C974E37D5bdECe9aFFcA05b0598A214Cd3C677',\n",
       " '0x144F31a6443961f69d8b6c359B31Dde294B6d9dE',\n",
       " '0xB41C40e43F704ddBA2ceba955bf8bb61fe949a23',\n",
       " '0xe9a9d22790fab66D1bA9FAa475260a5C6f5671FE',\n",
       " '0x9a0e12c125CDd8503381EC9063D078C1961Ad844',\n",
       " '0x63877151854A273288e458D6f8B7f8F1719a71B1']"
      ]
     },
     "execution_count": 34,
     "metadata": {},
     "output_type": "execute_result"
    }
   ],
   "source": [
    "w3.eth.accounts"
   ]
  },
  {
   "cell_type": "raw",
   "id": "8e6c484a-2101-454b-8ad3-4e157cecbb1c",
   "metadata": {},
   "source": [
    "print(contract)"
   ]
  },
  {
   "cell_type": "code",
   "execution_count": 15,
   "id": "dc5a8394-ae78-423e-a43f-faec062f966f",
   "metadata": {},
   "outputs": [
    {
     "name": "stdout",
     "output_type": "stream",
     "text": [
      "['0x51B0A521a3c93250521C16eFa268E7d7B6caa610', '0x8a4Ab31D91bCed163910c2277e1665c3bbb7E2B2', '0x1D63e2dfFD3DbB4A67627C9227B46b2959D89ca1', '0x0e3Be556DD5950C771fffc57b8A30567AF37C904', '0x26C974E37D5bdECe9aFFcA05b0598A214Cd3C677', '0x144F31a6443961f69d8b6c359B31Dde294B6d9dE', '0xB41C40e43F704ddBA2ceba955bf8bb61fe949a23', '0xe9a9d22790fab66D1bA9FAa475260a5C6f5671FE', '0x9a0e12c125CDd8503381EC9063D078C1961Ad844', '0x63877151854A273288e458D6f8B7f8F1719a71B1']\n"
     ]
    }
   ],
   "source": [
    "print(accounts)"
   ]
  },
  {
   "cell_type": "code",
   "execution_count": 47,
   "id": "ea66d939-2be0-46a7-86dd-4cb3225db164",
   "metadata": {},
   "outputs": [
    {
     "data": {
      "text/plain": [
       "''"
      ]
     },
     "execution_count": 47,
     "metadata": {},
     "output_type": "execute_result"
    }
   ],
   "source": [
    "os.getenv('SMART_CONTRACT_ADDRESS')"
   ]
  },
  {
   "cell_type": "code",
   "execution_count": 44,
   "id": "4dd39f4f-aad4-4087-a600-121843a9576a",
   "metadata": {},
   "outputs": [
    {
     "data": {
      "text/plain": [
       "'http://127.0.0.1:7545'"
      ]
     },
     "execution_count": 44,
     "metadata": {},
     "output_type": "execute_result"
    }
   ],
   "source": [
    "os.getenv('WEB3_PROVIDER_URI')"
   ]
  },
  {
   "cell_type": "code",
   "execution_count": 51,
   "id": "f30717d1-5050-4dad-bc02-80b8855c1ca2",
   "metadata": {},
   "outputs": [
    {
     "ename": "ValueError",
     "evalue": "{'message': 'VM Exception while processing transaction: invalid opcode', 'code': -32000, 'data': {'0xe5fae37a83aeb3cee4635f19193f8dbf5cd0eed6a563070b2029220d396f52e0': {'error': 'invalid opcode', 'program_counter': 0, 'return': '0x'}, 'stack': 'RuntimeError: VM Exception while processing transaction: invalid opcode\\n    at Function.RuntimeError.fromResults (/Applications/Ganache.app/Contents/Resources/static/node/node_modules/ganache-core/lib/utils/runtimeerror.js:94:13)\\n    at BlockchainDouble.processBlock (/Applications/Ganache.app/Contents/Resources/static/node/node_modules/ganache-core/lib/blockchain_double.js:627:24)\\n    at runMicrotasks (<anonymous>)\\n    at processTicksAndRejections (internal/process/task_queues.js:93:5)', 'name': 'RuntimeError'}}",
     "output_type": "error",
     "traceback": [
      "\u001b[0;31m---------------------------------------------------------------------------\u001b[0m",
      "\u001b[0;31mValueError\u001b[0m                                Traceback (most recent call last)",
      "\u001b[0;32m/var/folders/11/g0cb4q4n3gqg5v3vzy6nk_k00000gn/T/ipykernel_3011/1731494863.py\u001b[0m in \u001b[0;36m<module>\u001b[0;34m\u001b[0m\n\u001b[1;32m     12\u001b[0m         \u001b[0mint\u001b[0m\u001b[0;34m(\u001b[0m\u001b[0minitial_appraisal_value\u001b[0m\u001b[0;34m)\u001b[0m\u001b[0;34m,\u001b[0m\u001b[0;34m\u001b[0m\u001b[0;34m\u001b[0m\u001b[0m\n\u001b[1;32m     13\u001b[0m         \u001b[0martwork_uri\u001b[0m\u001b[0;34m\u001b[0m\u001b[0;34m\u001b[0m\u001b[0m\n\u001b[0;32m---> 14\u001b[0;31m     ).transact({'from': address, 'to': contract_address,  'gas': 1000000})\n\u001b[0m\u001b[1;32m     15\u001b[0m \u001b[0;34m\u001b[0m\u001b[0m\n\u001b[1;32m     16\u001b[0m \u001b[0mreceipt\u001b[0m \u001b[0;34m=\u001b[0m \u001b[0mw3\u001b[0m\u001b[0;34m.\u001b[0m\u001b[0meth\u001b[0m\u001b[0;34m.\u001b[0m\u001b[0mwaitForTransactionReceipt\u001b[0m\u001b[0;34m(\u001b[0m\u001b[0mtx_hash\u001b[0m\u001b[0;34m)\u001b[0m\u001b[0;34m\u001b[0m\u001b[0;34m\u001b[0m\u001b[0m\n",
      "\u001b[0;32m~/opt/anaconda3/envs/alpacaenv/lib/python3.7/site-packages/web3/contract.py\u001b[0m in \u001b[0;36mtransact\u001b[0;34m(self, transaction)\u001b[0m\n\u001b[1;32m    999\u001b[0m             \u001b[0mself\u001b[0m\u001b[0;34m.\u001b[0m\u001b[0mabi\u001b[0m\u001b[0;34m,\u001b[0m\u001b[0;34m\u001b[0m\u001b[0;34m\u001b[0m\u001b[0m\n\u001b[1;32m   1000\u001b[0m             \u001b[0;34m*\u001b[0m\u001b[0mself\u001b[0m\u001b[0;34m.\u001b[0m\u001b[0margs\u001b[0m\u001b[0;34m,\u001b[0m\u001b[0;34m\u001b[0m\u001b[0;34m\u001b[0m\u001b[0m\n\u001b[0;32m-> 1001\u001b[0;31m             \u001b[0;34m**\u001b[0m\u001b[0mself\u001b[0m\u001b[0;34m.\u001b[0m\u001b[0mkwargs\u001b[0m\u001b[0;34m\u001b[0m\u001b[0;34m\u001b[0m\u001b[0m\n\u001b[0m\u001b[1;32m   1002\u001b[0m         )\n\u001b[1;32m   1003\u001b[0m \u001b[0;34m\u001b[0m\u001b[0m\n",
      "\u001b[0;32m~/opt/anaconda3/envs/alpacaenv/lib/python3.7/site-packages/web3/contract.py\u001b[0m in \u001b[0;36mtransact_with_contract_function\u001b[0;34m(address, web3, function_name, transaction, contract_abi, fn_abi, *args, **kwargs)\u001b[0m\n\u001b[1;32m   1586\u001b[0m     )\n\u001b[1;32m   1587\u001b[0m \u001b[0;34m\u001b[0m\u001b[0m\n\u001b[0;32m-> 1588\u001b[0;31m     \u001b[0mtxn_hash\u001b[0m \u001b[0;34m=\u001b[0m \u001b[0mweb3\u001b[0m\u001b[0;34m.\u001b[0m\u001b[0meth\u001b[0m\u001b[0;34m.\u001b[0m\u001b[0msend_transaction\u001b[0m\u001b[0;34m(\u001b[0m\u001b[0mtransact_transaction\u001b[0m\u001b[0;34m)\u001b[0m\u001b[0;34m\u001b[0m\u001b[0;34m\u001b[0m\u001b[0m\n\u001b[0m\u001b[1;32m   1589\u001b[0m     \u001b[0;32mreturn\u001b[0m \u001b[0mtxn_hash\u001b[0m\u001b[0;34m\u001b[0m\u001b[0;34m\u001b[0m\u001b[0m\n\u001b[1;32m   1590\u001b[0m \u001b[0;34m\u001b[0m\u001b[0m\n",
      "\u001b[0;32m~/opt/anaconda3/envs/alpacaenv/lib/python3.7/site-packages/web3/module.py\u001b[0m in \u001b[0;36mcaller\u001b[0;34m(*args, **kwargs)\u001b[0m\n\u001b[1;32m     56\u001b[0m             \u001b[0;32mreturn\u001b[0m \u001b[0mLogFilter\u001b[0m\u001b[0;34m(\u001b[0m\u001b[0meth_module\u001b[0m\u001b[0;34m=\u001b[0m\u001b[0mmodule\u001b[0m\u001b[0;34m,\u001b[0m \u001b[0mfilter_id\u001b[0m\u001b[0;34m=\u001b[0m\u001b[0merr\u001b[0m\u001b[0;34m.\u001b[0m\u001b[0mfilter_id\u001b[0m\u001b[0;34m)\u001b[0m\u001b[0;34m\u001b[0m\u001b[0;34m\u001b[0m\u001b[0m\n\u001b[1;32m     57\u001b[0m         \u001b[0mresult_formatters\u001b[0m\u001b[0;34m,\u001b[0m \u001b[0merror_formatters\u001b[0m \u001b[0;34m=\u001b[0m \u001b[0mresponse_formatters\u001b[0m\u001b[0;34m\u001b[0m\u001b[0;34m\u001b[0m\u001b[0m\n\u001b[0;32m---> 58\u001b[0;31m         \u001b[0mresult\u001b[0m \u001b[0;34m=\u001b[0m \u001b[0mw3\u001b[0m\u001b[0;34m.\u001b[0m\u001b[0mmanager\u001b[0m\u001b[0;34m.\u001b[0m\u001b[0mrequest_blocking\u001b[0m\u001b[0;34m(\u001b[0m\u001b[0mmethod_str\u001b[0m\u001b[0;34m,\u001b[0m \u001b[0mparams\u001b[0m\u001b[0;34m,\u001b[0m \u001b[0merror_formatters\u001b[0m\u001b[0;34m)\u001b[0m\u001b[0;34m\u001b[0m\u001b[0;34m\u001b[0m\u001b[0m\n\u001b[0m\u001b[1;32m     59\u001b[0m         \u001b[0;32mreturn\u001b[0m \u001b[0mapply_result_formatters\u001b[0m\u001b[0;34m(\u001b[0m\u001b[0mresult_formatters\u001b[0m\u001b[0;34m,\u001b[0m \u001b[0mresult\u001b[0m\u001b[0;34m)\u001b[0m\u001b[0;34m\u001b[0m\u001b[0;34m\u001b[0m\u001b[0m\n\u001b[1;32m     60\u001b[0m     \u001b[0;32mreturn\u001b[0m \u001b[0mcaller\u001b[0m\u001b[0;34m\u001b[0m\u001b[0;34m\u001b[0m\u001b[0m\n",
      "\u001b[0;32m~/opt/anaconda3/envs/alpacaenv/lib/python3.7/site-packages/web3/manager.py\u001b[0m in \u001b[0;36mrequest_blocking\u001b[0;34m(self, method, params, error_formatters)\u001b[0m\n\u001b[1;32m    156\u001b[0m         \u001b[0;32mif\u001b[0m \u001b[0;34m\"error\"\u001b[0m \u001b[0;32min\u001b[0m \u001b[0mresponse\u001b[0m\u001b[0;34m:\u001b[0m\u001b[0;34m\u001b[0m\u001b[0;34m\u001b[0m\u001b[0m\n\u001b[1;32m    157\u001b[0m             \u001b[0mapply_error_formatters\u001b[0m\u001b[0;34m(\u001b[0m\u001b[0merror_formatters\u001b[0m\u001b[0;34m,\u001b[0m \u001b[0mresponse\u001b[0m\u001b[0;34m)\u001b[0m\u001b[0;34m\u001b[0m\u001b[0;34m\u001b[0m\u001b[0m\n\u001b[0;32m--> 158\u001b[0;31m             \u001b[0;32mraise\u001b[0m \u001b[0mValueError\u001b[0m\u001b[0;34m(\u001b[0m\u001b[0mresponse\u001b[0m\u001b[0;34m[\u001b[0m\u001b[0;34m\"error\"\u001b[0m\u001b[0;34m]\u001b[0m\u001b[0;34m)\u001b[0m\u001b[0;34m\u001b[0m\u001b[0;34m\u001b[0m\u001b[0m\n\u001b[0m\u001b[1;32m    159\u001b[0m         \u001b[0;32melif\u001b[0m \u001b[0mresponse\u001b[0m\u001b[0;34m[\u001b[0m\u001b[0;34m'result'\u001b[0m\u001b[0;34m]\u001b[0m \u001b[0;32mis\u001b[0m \u001b[0;32mNone\u001b[0m\u001b[0;34m:\u001b[0m\u001b[0;34m\u001b[0m\u001b[0;34m\u001b[0m\u001b[0m\n\u001b[1;32m    160\u001b[0m             \u001b[0mapply_error_formatters\u001b[0m\u001b[0;34m(\u001b[0m\u001b[0merror_formatters\u001b[0m\u001b[0;34m,\u001b[0m \u001b[0mresponse\u001b[0m\u001b[0;34m,\u001b[0m \u001b[0mparams\u001b[0m\u001b[0;34m)\u001b[0m\u001b[0;34m\u001b[0m\u001b[0;34m\u001b[0m\u001b[0m\n",
      "\u001b[0;31mValueError\u001b[0m: {'message': 'VM Exception while processing transaction: invalid opcode', 'code': -32000, 'data': {'0xe5fae37a83aeb3cee4635f19193f8dbf5cd0eed6a563070b2029220d396f52e0': {'error': 'invalid opcode', 'program_counter': 0, 'return': '0x'}, 'stack': 'RuntimeError: VM Exception while processing transaction: invalid opcode\\n    at Function.RuntimeError.fromResults (/Applications/Ganache.app/Contents/Resources/static/node/node_modules/ganache-core/lib/utils/runtimeerror.js:94:13)\\n    at BlockchainDouble.processBlock (/Applications/Ganache.app/Contents/Resources/static/node/node_modules/ganache-core/lib/blockchain_double.js:627:24)\\n    at runMicrotasks (<anonymous>)\\n    at processTicksAndRejections (internal/process/task_queues.js:93:5)', 'name': 'RuntimeError'}}"
     ]
    }
   ],
   "source": [
    "address = '0x51B0A521a3c93250521C16eFa268E7d7B6caa610'\n",
    "contract_address = os.getenv(\"SMART_CONTRACT_ADDRESS\")\n",
    "artwork_name = 'project1'\n",
    "artist_name = 'pip'\n",
    "initial_appraisal_value = 5000000000000000\n",
    "artwork_uri = 'QmSqbwCi3fp75ESyVaaGWezC8zSKPSVz7GAxmPLD8pXUCX'\n",
    "\n",
    "tx_hash = contract.functions.registerArtwork(\n",
    "        address,\n",
    "        artwork_name,\n",
    "        artist_name,\n",
    "        int(initial_appraisal_value),\n",
    "        artwork_uri\n",
    "    ).transact({'from': address, 'to': contract_address,  'gas': 1000000})\n",
    "\n",
    "receipt = w3.eth.waitForTransactionReceipt(tx_hash)\n",
    "print(receipt)"
   ]
  },
  {
   "cell_type": "code",
   "execution_count": 6,
   "id": "47690b17-6249-4118-9f6a-9235c282d95d",
   "metadata": {},
   "outputs": [
    {
     "name": "stdout",
     "output_type": "stream",
     "text": [
      "USD to ETH Conversion: 1USD =0.00061\n"
     ]
    }
   ],
   "source": [
    "conversion = 0.00061\n",
    "str_conversion = str(conversion)\n",
    "print(f\"USD to ETH Conversion: 1USD =\" + str_conversion)"
   ]
  },
  {
   "cell_type": "code",
   "execution_count": 16,
   "id": "eea455a7-82bc-458b-b366-079236caac7a",
   "metadata": {},
   "outputs": [],
   "source": [
    "import os\n",
    "import json\n",
    "from web3 import Web3\n",
    "from pathlib import Path\n",
    "from dotenv import load_dotenv\n",
    "import streamlit as st\n",
    "from PIL import Image\n",
    "\n",
    "load_dotenv(Path('SAMPLE.env'))\n",
    "\n",
    "# Define and connect a new Web3 provider\n",
    "w3 = Web3(Web3.HTTPProvider(os.getenv(\"WEB3_PROVIDER_URI\")))\n"
   ]
  },
  {
   "cell_type": "code",
   "execution_count": 32,
   "id": "1a4c5948-feb2-4710-846b-91255c40dd1d",
   "metadata": {},
   "outputs": [
    {
     "data": {
      "text/plain": [
       "1000000000000000000"
      ]
     },
     "execution_count": 32,
     "metadata": {},
     "output_type": "execute_result"
    }
   ],
   "source": [
    "w3.toWei(1,'Ether')\n"
   ]
  },
  {
   "cell_type": "code",
   "execution_count": 23,
   "id": "f19e6d32-367b-481a-8823-3428c66a1b7f",
   "metadata": {},
   "outputs": [],
   "source": [
    "import decimal"
   ]
  },
  {
   "cell_type": "code",
   "execution_count": 24,
   "id": "c7884c6d-f72f-4da0-aa22-ff229c6335a9",
   "metadata": {},
   "outputs": [
    {
     "data": {
      "text/plain": [
       "<module 'decimal' from '/Users/saim/opt/anaconda3/envs/alpacaenv/lib/python3.7/decimal.py'>"
      ]
     },
     "execution_count": 24,
     "metadata": {},
     "output_type": "execute_result"
    }
   ],
   "source": [
    "decimal\n"
   ]
  },
  {
   "cell_type": "code",
   "execution_count": 37,
   "id": "8a05d765-d81c-437d-b7fd-8e430369fd67",
   "metadata": {},
   "outputs": [
    {
     "name": "stdout",
     "output_type": "stream",
     "text": [
      "600\n",
      "600000000000000000000\n",
      "900000000000000018\n"
     ]
    }
   ],
   "source": [
    "amount_in_ETH = Decimal(600)\n",
    "weiValue = Decimal(w3.toWei(amount_in_ETH,'Ether'))\n",
    "rate_CCGA = Decimal(0.015503)\n",
    "str_rate_CCGA = str(rate_CCGA)\n",
    "conversion = Decimal(0.00061)\n",
    "str_conversion = str(conversion)\n",
    "amount_in_USD = weiValue*conversion\n",
    "#st.write(f\"TOKEN COST: 1CCGA = 5 WEI\")\n",
    "#st.write(f\"TOKEN COST: 1CCGA =\" + str_rate_CCGA + \"in USD\" )\n",
    "#st.markdown(\"### Platform Fee\")\n",
    "#st.markdown(\"#### the brokerage fee is 1.5%\")\n",
    "brokerage_percentage = Decimal(0.0015)\n",
    "brokerage_fee = amount_in_ETH*brokerage_percentage\n",
    "weiValue_brokerage = Decimal(w3.toWei(brokerage_fee,'Ether'))\n",
    "amount = weiValue - weiValue_brokerage\n",
    "\n",
    "print(amount_in_ETH)\n",
    "print(weiValue)\n",
    "print(weiValue_brokerage)"
   ]
  }
 ],
 "metadata": {
  "kernelspec": {
   "display_name": "Python 3 (ipykernel)",
   "language": "python",
   "name": "python3"
  },
  "language_info": {
   "codemirror_mode": {
    "name": "ipython",
    "version": 3
   },
   "file_extension": ".py",
   "mimetype": "text/x-python",
   "name": "python",
   "nbconvert_exporter": "python",
   "pygments_lexer": "ipython3",
   "version": "3.7.13"
  }
 },
 "nbformat": 4,
 "nbformat_minor": 5
}
